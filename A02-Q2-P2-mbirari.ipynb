{
 "cells": [
  {
   "cell_type": "code",
   "execution_count": 181,
   "metadata": {},
   "outputs": [],
   "source": [
    "import matplotlib.pyplot as plt\n",
    "import pandas as pd\n",
    "\n",
    "from pyspark.sql import SparkSession\n",
    "from pyspark.sql.types import StructType, StructField, StringType, IntegerType\n",
    "import pyspark.sql.functions as F\n",
    "\n",
    "from pyspark.ml.feature import StandardScaler,VectorAssembler\n",
    "from pyspark.ml.clustering import KMeans\n",
    "from pyspark.ml.evaluation import ClusteringEvaluator\n",
    "\n",
    "from datetime import date, datetime, timedelta\n",
    "import time\n",
    "\n",
    "from pyspark.sql.functions import col, dayofweek, dayofmonth, month, to_date, year\n",
    "from pyspark.sql.types import *\n",
    "\n"
   ]
  },
  {
   "cell_type": "code",
   "execution_count": null,
   "metadata": {},
   "outputs": [],
   "source": []
  },
  {
   "cell_type": "code",
   "execution_count": 182,
   "metadata": {},
   "outputs": [],
   "source": [
    "spark = SparkSession.builder.appName(\"Comfortable_Zone\").getOrCreate()"
   ]
  },
  {
   "cell_type": "code",
   "execution_count": 183,
   "metadata": {},
   "outputs": [],
   "source": [
    "\n",
    "nba_df = spark.read.csv(\"C:/Users/mayur/OneDrive/Desktop/CoursesSem2/ECC/A02/shot_logs.csv\",header=True,inferSchema=True)"
   ]
  },
  {
   "cell_type": "code",
   "execution_count": 184,
   "metadata": {},
   "outputs": [
    {
     "name": "stdout",
     "output_type": "stream",
     "text": [
      "root\n",
      " |-- GAME_ID: integer (nullable = true)\n",
      " |-- MATCHUP: string (nullable = true)\n",
      " |-- LOCATION: string (nullable = true)\n",
      " |-- W: string (nullable = true)\n",
      " |-- FINAL_MARGIN: integer (nullable = true)\n",
      " |-- SHOT_NUMBER: integer (nullable = true)\n",
      " |-- PERIOD: integer (nullable = true)\n",
      " |-- GAME_CLOCK: timestamp (nullable = true)\n",
      " |-- SHOT_CLOCK: double (nullable = true)\n",
      " |-- DRIBBLES: integer (nullable = true)\n",
      " |-- TOUCH_TIME: double (nullable = true)\n",
      " |-- SHOT_DIST: double (nullable = true)\n",
      " |-- PTS_TYPE: integer (nullable = true)\n",
      " |-- SHOT_RESULT: string (nullable = true)\n",
      " |-- CLOSEST_DEFENDER: string (nullable = true)\n",
      " |-- CLOSEST_DEFENDER_PLAYER_ID: integer (nullable = true)\n",
      " |-- CLOSE_DEF_DIST: double (nullable = true)\n",
      " |-- FGM: integer (nullable = true)\n",
      " |-- PTS: integer (nullable = true)\n",
      " |-- player_name: string (nullable = true)\n",
      " |-- player_id: integer (nullable = true)\n",
      "\n"
     ]
    }
   ],
   "source": [
    "nba_df.printSchema()"
   ]
  },
  {
   "cell_type": "code",
   "execution_count": 185,
   "metadata": {},
   "outputs": [
    {
     "name": "stdout",
     "output_type": "stream",
     "text": [
      "+--------+--------------------+--------+---+------------+-----------+------+-------------------+----------+--------+----------+---------+--------+-----------+-----------------+--------------------------+--------------+---+---+-------------+---------+\n",
      "| GAME_ID|             MATCHUP|LOCATION|  W|FINAL_MARGIN|SHOT_NUMBER|PERIOD|         GAME_CLOCK|SHOT_CLOCK|DRIBBLES|TOUCH_TIME|SHOT_DIST|PTS_TYPE|SHOT_RESULT| CLOSEST_DEFENDER|CLOSEST_DEFENDER_PLAYER_ID|CLOSE_DEF_DIST|FGM|PTS|  player_name|player_id|\n",
      "+--------+--------------------+--------+---+------------+-----------+------+-------------------+----------+--------+----------+---------+--------+-----------+-----------------+--------------------------+--------------+---+---+-------------+---------+\n",
      "|21400899|MAR 04, 2015 - CH...|       A|  W|          24|          1|     1|2023-04-21 01:09:00|      10.8|       2|       1.9|      7.7|       2|       made|   Anderson, Alan|                    101187|           1.3|  1|  2|brian roberts|   203148|\n",
      "|21400899|MAR 04, 2015 - CH...|       A|  W|          24|          2|     1|2023-04-21 00:14:00|       3.4|       0|       0.8|     28.2|       3|     missed|Bogdanovic, Bojan|                    202711|           6.1|  0|  0|brian roberts|   203148|\n",
      "|21400899|MAR 04, 2015 - CH...|       A|  W|          24|          3|     1|2023-04-21 00:00:00|      null|       3|       2.7|     10.1|       2|     missed|Bogdanovic, Bojan|                    202711|           0.9|  0|  0|brian roberts|   203148|\n",
      "|21400899|MAR 04, 2015 - CH...|       A|  W|          24|          4|     2|2023-04-21 11:47:00|      10.3|       2|       1.9|     17.2|       2|     missed|    Brown, Markel|                    203900|           3.4|  0|  0|brian roberts|   203148|\n",
      "|21400899|MAR 04, 2015 - CH...|       A|  W|          24|          5|     2|2023-04-21 10:34:00|      10.9|       2|       2.7|      3.7|       2|     missed|  Young, Thaddeus|                    201152|           1.1|  0|  0|brian roberts|   203148|\n",
      "|21400899|MAR 04, 2015 - CH...|       A|  W|          24|          6|     2|2023-04-21 08:15:00|       9.1|       2|       4.4|     18.4|       2|     missed|  Williams, Deron|                    101114|           2.6|  0|  0|brian roberts|   203148|\n",
      "|21400899|MAR 04, 2015 - CH...|       A|  W|          24|          7|     4|2023-04-21 10:15:00|      14.5|      11|       9.0|     20.7|       2|     missed|    Jack, Jarrett|                    101127|           6.1|  0|  0|brian roberts|   203148|\n",
      "|21400899|MAR 04, 2015 - CH...|       A|  W|          24|          8|     4|2023-04-21 08:00:00|       3.4|       3|       2.5|      3.5|       2|       made|   Plumlee, Mason|                    203486|           2.1|  1|  2|brian roberts|   203148|\n",
      "|21400899|MAR 04, 2015 - CH...|       A|  W|          24|          9|     4|2023-04-21 05:14:00|      12.4|       0|       0.8|     24.6|       3|     missed|   Morris, Darius|                    202721|           7.3|  0|  0|brian roberts|   203148|\n",
      "|21400890|MAR 03, 2015 - CH...|       H|  W|           1|          1|     2|2023-04-21 11:32:00|      17.4|       0|       1.1|     22.4|       3|     missed| Ellington, Wayne|                    201961|          19.8|  0|  0|brian roberts|   203148|\n",
      "|21400890|MAR 03, 2015 - CH...|       H|  W|           1|          2|     2|2023-04-21 06:30:00|      16.0|       8|       7.5|     24.5|       3|     missed|      Lin, Jeremy|                    202391|           4.7|  0|  0|brian roberts|   203148|\n",
      "|21400890|MAR 03, 2015 - CH...|       H|  W|           1|          3|     4|2023-04-21 11:32:00|      12.1|      14|      11.9|     14.6|       2|       made|      Lin, Jeremy|                    202391|           1.8|  1|  2|brian roberts|   203148|\n",
      "|21400890|MAR 03, 2015 - CH...|       H|  W|           1|          4|     4|2023-04-21 08:55:00|       4.3|       2|       2.9|      5.9|       2|       made|     Hill, Jordan|                    201941|           5.4|  1|  2|brian roberts|   203148|\n",
      "|21400882|MAR 01, 2015 - CH...|       A|  W|          15|          1|     4|2023-04-21 09:10:00|       4.4|       0|       0.8|     26.4|       3|     missed|    Green, Willie|                      2584|           4.4|  0|  0|brian roberts|   203148|\n",
      "|21400859|FEB 27, 2015 - CH...|       A|  L|          -8|          1|     1|2023-04-21 00:48:00|       6.8|       0|       0.5|     22.8|       3|     missed|    Smart, Marcus|                    203935|           5.3|  0|  0|brian roberts|   203148|\n",
      "|21400859|FEB 27, 2015 - CH...|       A|  L|          -8|          2|     2|2023-04-21 10:38:00|       6.4|       3|       2.7|     24.7|       3|       made|     Young, James|                    203923|           5.6|  1|  3|brian roberts|   203148|\n",
      "|21400859|FEB 27, 2015 - CH...|       A|  L|          -8|          3|     2|2023-04-21 08:27:00|      17.6|       6|       5.1|     25.0|       3|     missed|   Jerebko, Jonas|                    201973|           5.4|  0|  0|brian roberts|   203148|\n",
      "|21400859|FEB 27, 2015 - CH...|       A|  L|          -8|          4|     4|2023-04-21 10:55:00|       8.7|       1|       0.9|     25.6|       3|     missed|     Crowder, Jae|                    203109|           5.1|  0|  0|brian roberts|   203148|\n",
      "|21400859|FEB 27, 2015 - CH...|       A|  L|          -8|          5|     4|2023-04-21 10:29:00|      20.8|       0|       1.2|     24.2|       3|       made|   Thomas, Isaiah|                    202738|          11.1|  1|  3|brian roberts|   203148|\n",
      "|21400845|FEB 25, 2015 - CH...|       A|  W|          12|          1|     1|2023-04-21 03:35:00|      17.5|       2|       2.2|     25.4|       3|     missed|    Brooks, Aaron|                    201166|           3.5|  0|  0|brian roberts|   203148|\n",
      "+--------+--------------------+--------+---+------------+-----------+------+-------------------+----------+--------+----------+---------+--------+-----------+-----------------+--------------------------+--------------+---+---+-------------+---------+\n",
      "only showing top 20 rows\n",
      "\n"
     ]
    }
   ],
   "source": [
    "nba_df.show(20)"
   ]
  },
  {
   "cell_type": "code",
   "execution_count": 186,
   "metadata": {},
   "outputs": [
    {
     "name": "stderr",
     "output_type": "stream",
     "text": [
      "C:\\Users\\mayur\\AppData\\Local\\Packages\\PythonSoftwareFoundation.Python.3.10_qbz5n2kfra8p0\\LocalCache\\local-packages\\Python310\\site-packages\\pyspark\\sql\\pandas\\conversion.py:251: FutureWarning: Passing unit-less datetime64 dtype to .astype is deprecated and will raise in a future version. Pass 'datetime64[ns]' instead\n",
      "  series = series.astype(t, copy=False)\n"
     ]
    }
   ],
   "source": [
    "\n",
    "new_df = (nba_df.dropna().toPandas())"
   ]
  },
  {
   "cell_type": "code",
   "execution_count": 187,
   "metadata": {},
   "outputs": [],
   "source": [
    "df = nba_df.select('SHOT_DIST', 'CLOSE_DEF_DIST', 'SHOT_CLOCK').dropna()\n"
   ]
  },
  {
   "cell_type": "code",
   "execution_count": 188,
   "metadata": {},
   "outputs": [
    {
     "name": "stdout",
     "output_type": "stream",
     "text": [
      "root\n",
      " |-- SHOT_DIST: double (nullable = true)\n",
      " |-- CLOSE_DEF_DIST: double (nullable = true)\n",
      " |-- SHOT_CLOCK: double (nullable = true)\n",
      "\n"
     ]
    }
   ],
   "source": [
    "df.printSchema()"
   ]
  },
  {
   "cell_type": "code",
   "execution_count": 189,
   "metadata": {},
   "outputs": [
    {
     "name": "stdout",
     "output_type": "stream",
     "text": [
      "+---------+--------------+----------+\n",
      "|SHOT_DIST|CLOSE_DEF_DIST|SHOT_CLOCK|\n",
      "+---------+--------------+----------+\n",
      "|      7.7|           1.3|      10.8|\n",
      "|     28.2|           6.1|       3.4|\n",
      "|     17.2|           3.4|      10.3|\n",
      "|      3.7|           1.1|      10.9|\n",
      "|     18.4|           2.6|       9.1|\n",
      "|     20.7|           6.1|      14.5|\n",
      "|      3.5|           2.1|       3.4|\n",
      "|     24.6|           7.3|      12.4|\n",
      "|     22.4|          19.8|      17.4|\n",
      "|     24.5|           4.7|      16.0|\n",
      "|     14.6|           1.8|      12.1|\n",
      "|      5.9|           5.4|       4.3|\n",
      "|     26.4|           4.4|       4.4|\n",
      "|     22.8|           5.3|       6.8|\n",
      "|     24.7|           5.6|       6.4|\n",
      "|     25.0|           5.4|      17.6|\n",
      "|     25.6|           5.1|       8.7|\n",
      "|     24.2|          11.1|      20.8|\n",
      "|     25.4|           3.5|      17.5|\n",
      "|     19.1|           4.0|      19.5|\n",
      "+---------+--------------+----------+\n",
      "only showing top 20 rows\n",
      "\n"
     ]
    }
   ],
   "source": [
    "df.show()"
   ]
  },
  {
   "cell_type": "code",
   "execution_count": 190,
   "metadata": {},
   "outputs": [],
   "source": [
    "assembler = VectorAssembler()\n",
    "assembler.setInputCols(df.columns)\n",
    "assembler.setOutputCol('features')\n",
    "assembler_data = assembler.transform(df)\n"
   ]
  },
  {
   "cell_type": "code",
   "execution_count": 191,
   "metadata": {},
   "outputs": [
    {
     "name": "stdout",
     "output_type": "stream",
     "text": [
      "+---------+--------------+----------+---------------+\n",
      "|SHOT_DIST|CLOSE_DEF_DIST|SHOT_CLOCK|       features|\n",
      "+---------+--------------+----------+---------------+\n",
      "|      7.7|           1.3|      10.8| [7.7,1.3,10.8]|\n",
      "|     28.2|           6.1|       3.4| [28.2,6.1,3.4]|\n",
      "|     17.2|           3.4|      10.3|[17.2,3.4,10.3]|\n",
      "|      3.7|           1.1|      10.9| [3.7,1.1,10.9]|\n",
      "|     18.4|           2.6|       9.1| [18.4,2.6,9.1]|\n",
      "+---------+--------------+----------+---------------+\n",
      "only showing top 5 rows\n",
      "\n"
     ]
    }
   ],
   "source": [
    "assembler_data.show(5)"
   ]
  },
  {
   "cell_type": "code",
   "execution_count": 192,
   "metadata": {},
   "outputs": [],
   "source": [
    "def calculate_silhouette_score(data, num_clusters):\n",
    "    # Train a KMeans model\n",
    "    kmeans = KMeans(k=num_clusters, featuresCol='features')\n",
    "    model = kmeans.fit(data)\n",
    "\n",
    "    # Make predictions and evaluate the model\n",
    "    predictions = model.transform(data)\n",
    "    evaluator = ClusteringEvaluator()\n",
    "    silhouette_score = evaluator.evaluate(predictions)\n",
    "    return silhouette_score\n",
    "\n",
    "\n",
    "\n"
   ]
  },
  {
   "cell_type": "code",
   "execution_count": 193,
   "metadata": {},
   "outputs": [
    {
     "name": "stdout",
     "output_type": "stream",
     "text": [
      "0.7005693569346803 2\n",
      "0.6274971328256687 3\n",
      "0.5550339306822153 4\n",
      "0.496023939066375 5\n",
      "0.5059735416306909 6\n",
      "0.48779556198511104 7\n",
      "0.47646810182324506 8\n",
      "0.4755061270394926 9\n",
      "0.48579152147457955 10\n"
     ]
    }
   ],
   "source": [
    "# Calculate silhouette scores for different number of clusters\n",
    "silhouette_scores = []\n",
    "for k in range(2, 11):\n",
    "    score = calculate_silhouette_score(assembler_data, k)\n",
    "    print(score, k)\n",
    "    silhouette_scores.append(score)"
   ]
  },
  {
   "cell_type": "code",
   "execution_count": 194,
   "metadata": {},
   "outputs": [
    {
     "data": {
      "image/png": "[encoded data removed]",
      "text/plain": [
       "<Figure size 800x600 with 1 Axes>"
      ]
     },
     "metadata": {},
     "output_type": "display_data"
    }
   ],
   "source": [
    "# Plot the silhouette scores\n",
    "fig, ax = plt.subplots(figsize=(8, 6))\n",
    "ax.plot(range(2, 11), silhouette_scores, marker='o')\n",
    "ax.set_xlabel('Number of clusters')\n",
    "ax.set_ylabel('Silhouette score')\n",
    "ax.set_xticks(np.arange(2, 11))\n",
    "plt.show()\n"
   ]
  },
  {
   "cell_type": "code",
   "execution_count": 195,
   "metadata": {},
   "outputs": [
    {
     "name": "stdout",
     "output_type": "stream",
     "text": [
      "Silhouette with squared euclidean distance = 0.496023939066375\n"
     ]
    }
   ],
   "source": [
    "# Number of clusters is 3\n",
    "km = KMeans(featuresCol='features', k=5)\n",
    "model = km.fit(assembler_data)\n",
    "pred = model.transform(assembler_data)\n",
    "# Evaluate clustering by computing Silhouette score\n",
    "evaluator = ClusteringEvaluator()\n",
    "silhouette = evaluator.evaluate(pred)\n",
    "print(\"Silhouette with squared euclidean distance = \" + str(silhouette))"
   ]
  },
  {
   "cell_type": "code",
   "execution_count": 196,
   "metadata": {},
   "outputs": [
    {
     "name": "stdout",
     "output_type": "stream",
     "text": [
      "+---------+--------------+----------+----------------+----------+\n",
      "|SHOT_DIST|CLOSE_DEF_DIST|SHOT_CLOCK|        features|prediction|\n",
      "+---------+--------------+----------+----------------+----------+\n",
      "|      7.7|           1.3|      10.8|  [7.7,1.3,10.8]|         4|\n",
      "|     28.2|           6.1|       3.4|  [28.2,6.1,3.4]|         0|\n",
      "|     17.2|           3.4|      10.3| [17.2,3.4,10.3]|         0|\n",
      "|      3.7|           1.1|      10.9|  [3.7,1.1,10.9]|         4|\n",
      "|     18.4|           2.6|       9.1|  [18.4,2.6,9.1]|         0|\n",
      "|     20.7|           6.1|      14.5| [20.7,6.1,14.5]|         3|\n",
      "|      3.5|           2.1|       3.4|   [3.5,2.1,3.4]|         2|\n",
      "|     24.6|           7.3|      12.4| [24.6,7.3,12.4]|         3|\n",
      "|     22.4|          19.8|      17.4|[22.4,19.8,17.4]|         3|\n",
      "|     24.5|           4.7|      16.0| [24.5,4.7,16.0]|         3|\n",
      "|     14.6|           1.8|      12.1| [14.6,1.8,12.1]|         4|\n",
      "|      5.9|           5.4|       4.3|   [5.9,5.4,4.3]|         2|\n",
      "|     26.4|           4.4|       4.4|  [26.4,4.4,4.4]|         0|\n",
      "|     22.8|           5.3|       6.8|  [22.8,5.3,6.8]|         0|\n",
      "|     24.7|           5.6|       6.4|  [24.7,5.6,6.4]|         0|\n",
      "|     25.0|           5.4|      17.6| [25.0,5.4,17.6]|         3|\n",
      "|     25.6|           5.1|       8.7|  [25.6,5.1,8.7]|         0|\n",
      "|     24.2|          11.1|      20.8|[24.2,11.1,20.8]|         3|\n",
      "|     25.4|           3.5|      17.5| [25.4,3.5,17.5]|         3|\n",
      "|     19.1|           4.0|      19.5| [19.1,4.0,19.5]|         3|\n",
      "+---------+--------------+----------+----------------+----------+\n",
      "only showing top 20 rows\n",
      "\n"
     ]
    }
   ],
   "source": [
    "pred.show()"
   ]
  },
  {
   "cell_type": "code",
   "execution_count": 197,
   "metadata": {},
   "outputs": [],
   "source": [
    "centers = model.clusterCenters()\n"
   ]
  },
  {
   "cell_type": "code",
   "execution_count": 198,
   "metadata": {},
   "outputs": [],
   "source": [
    "# Collect the predictions\n",
    "predictions_collected = pred.collect()\n",
    "\n",
    "# Select columns of interest and convert to Pandas dataframe\n",
    "pred_df = pred.select(['prediction','SHOT_DIST','CLOSE_DEF_DIST','SHOT_CLOCK']).toPandas()\n",
    "\n",
    "# Create a new Pandas dataframe with selected columns\n",
    "pred_data = pred_df[['prediction','SHOT_DIST','CLOSE_DEF_DIST','SHOT_CLOCK']]"
   ]
  },
  {
   "cell_type": "code",
   "execution_count": 199,
   "metadata": {},
   "outputs": [
    {
     "data": {
      "text/html": [
       "<div>\n",
       "<style scoped>\n",
       "    .dataframe tbody tr th:only-of-type {\n",
       "        vertical-align: middle;\n",
       "    }\n",
       "\n",
       "    .dataframe tbody tr th {\n",
       "        vertical-align: top;\n",
       "    }\n",
       "\n",
       "    .dataframe thead th {\n",
       "        text-align: right;\n",
       "    }\n",
       "</style>\n",
       "<table border=\"1\" class=\"dataframe\">\n",
       "  <thead>\n",
       "    <tr style=\"text-align: right;\">\n",
       "      <th></th>\n",
       "      <th>GAME_ID</th>\n",
       "      <th>MATCHUP</th>\n",
       "      <th>LOCATION</th>\n",
       "      <th>W</th>\n",
       "      <th>FINAL_MARGIN</th>\n",
       "      <th>SHOT_NUMBER</th>\n",
       "      <th>PERIOD</th>\n",
       "      <th>GAME_CLOCK</th>\n",
       "      <th>SHOT_CLOCK</th>\n",
       "      <th>DRIBBLES</th>\n",
       "      <th>...</th>\n",
       "      <th>CLOSEST_DEFENDER_PLAYER_ID</th>\n",
       "      <th>CLOSE_DEF_DIST</th>\n",
       "      <th>FGM</th>\n",
       "      <th>PTS</th>\n",
       "      <th>player_name</th>\n",
       "      <th>player_id</th>\n",
       "      <th>prediction</th>\n",
       "      <th>SHOT_DIST</th>\n",
       "      <th>CLOSE_DEF_DIST</th>\n",
       "      <th>SHOT_CLOCK</th>\n",
       "    </tr>\n",
       "  </thead>\n",
       "  <tbody>\n",
       "    <tr>\n",
       "      <th>0</th>\n",
       "      <td>21400899</td>\n",
       "      <td>MAR 04, 2015 - CHA @ BKN</td>\n",
       "      <td>A</td>\n",
       "      <td>W</td>\n",
       "      <td>24</td>\n",
       "      <td>1</td>\n",
       "      <td>1</td>\n",
       "      <td>2023-04-21 01:09:00</td>\n",
       "      <td>10.8</td>\n",
       "      <td>2</td>\n",
       "      <td>...</td>\n",
       "      <td>101187</td>\n",
       "      <td>1.3</td>\n",
       "      <td>1</td>\n",
       "      <td>2</td>\n",
       "      <td>brian roberts</td>\n",
       "      <td>203148</td>\n",
       "      <td>4</td>\n",
       "      <td>7.7</td>\n",
       "      <td>1.3</td>\n",
       "      <td>10.8</td>\n",
       "    </tr>\n",
       "    <tr>\n",
       "      <th>1</th>\n",
       "      <td>21400899</td>\n",
       "      <td>MAR 04, 2015 - CHA @ BKN</td>\n",
       "      <td>A</td>\n",
       "      <td>W</td>\n",
       "      <td>24</td>\n",
       "      <td>2</td>\n",
       "      <td>1</td>\n",
       "      <td>2023-04-21 00:14:00</td>\n",
       "      <td>3.4</td>\n",
       "      <td>0</td>\n",
       "      <td>...</td>\n",
       "      <td>202711</td>\n",
       "      <td>6.1</td>\n",
       "      <td>0</td>\n",
       "      <td>0</td>\n",
       "      <td>brian roberts</td>\n",
       "      <td>203148</td>\n",
       "      <td>0</td>\n",
       "      <td>28.2</td>\n",
       "      <td>6.1</td>\n",
       "      <td>3.4</td>\n",
       "    </tr>\n",
       "    <tr>\n",
       "      <th>2</th>\n",
       "      <td>21400899</td>\n",
       "      <td>MAR 04, 2015 - CHA @ BKN</td>\n",
       "      <td>A</td>\n",
       "      <td>W</td>\n",
       "      <td>24</td>\n",
       "      <td>4</td>\n",
       "      <td>2</td>\n",
       "      <td>2023-04-21 11:47:00</td>\n",
       "      <td>10.3</td>\n",
       "      <td>2</td>\n",
       "      <td>...</td>\n",
       "      <td>203900</td>\n",
       "      <td>3.4</td>\n",
       "      <td>0</td>\n",
       "      <td>0</td>\n",
       "      <td>brian roberts</td>\n",
       "      <td>203148</td>\n",
       "      <td>0</td>\n",
       "      <td>17.2</td>\n",
       "      <td>3.4</td>\n",
       "      <td>10.3</td>\n",
       "    </tr>\n",
       "    <tr>\n",
       "      <th>3</th>\n",
       "      <td>21400899</td>\n",
       "      <td>MAR 04, 2015 - CHA @ BKN</td>\n",
       "      <td>A</td>\n",
       "      <td>W</td>\n",
       "      <td>24</td>\n",
       "      <td>5</td>\n",
       "      <td>2</td>\n",
       "      <td>2023-04-21 10:34:00</td>\n",
       "      <td>10.9</td>\n",
       "      <td>2</td>\n",
       "      <td>...</td>\n",
       "      <td>201152</td>\n",
       "      <td>1.1</td>\n",
       "      <td>0</td>\n",
       "      <td>0</td>\n",
       "      <td>brian roberts</td>\n",
       "      <td>203148</td>\n",
       "      <td>4</td>\n",
       "      <td>3.7</td>\n",
       "      <td>1.1</td>\n",
       "      <td>10.9</td>\n",
       "    </tr>\n",
       "    <tr>\n",
       "      <th>4</th>\n",
       "      <td>21400899</td>\n",
       "      <td>MAR 04, 2015 - CHA @ BKN</td>\n",
       "      <td>A</td>\n",
       "      <td>W</td>\n",
       "      <td>24</td>\n",
       "      <td>6</td>\n",
       "      <td>2</td>\n",
       "      <td>2023-04-21 08:15:00</td>\n",
       "      <td>9.1</td>\n",
       "      <td>2</td>\n",
       "      <td>...</td>\n",
       "      <td>101114</td>\n",
       "      <td>2.6</td>\n",
       "      <td>0</td>\n",
       "      <td>0</td>\n",
       "      <td>brian roberts</td>\n",
       "      <td>203148</td>\n",
       "      <td>0</td>\n",
       "      <td>18.4</td>\n",
       "      <td>2.6</td>\n",
       "      <td>9.1</td>\n",
       "    </tr>\n",
       "  </tbody>\n",
       "</table>\n",
       "<p>5 rows × 25 columns</p>\n",
       "</div>"
      ],
      "text/plain": [
       "    GAME_ID                   MATCHUP LOCATION  W  FINAL_MARGIN  SHOT_NUMBER  \\\n",
       "0  21400899  MAR 04, 2015 - CHA @ BKN        A  W            24            1   \n",
       "1  21400899  MAR 04, 2015 - CHA @ BKN        A  W            24            2   \n",
       "2  21400899  MAR 04, 2015 - CHA @ BKN        A  W            24            4   \n",
       "3  21400899  MAR 04, 2015 - CHA @ BKN        A  W            24            5   \n",
       "4  21400899  MAR 04, 2015 - CHA @ BKN        A  W            24            6   \n",
       "\n",
       "   PERIOD          GAME_CLOCK SHOT_CLOCK  DRIBBLES  ...  \\\n",
       "0       1 2023-04-21 01:09:00       10.8         2  ...   \n",
       "1       1 2023-04-21 00:14:00        3.4         0  ...   \n",
       "2       2 2023-04-21 11:47:00       10.3         2  ...   \n",
       "3       2 2023-04-21 10:34:00       10.9         2  ...   \n",
       "4       2 2023-04-21 08:15:00        9.1         2  ...   \n",
       "\n",
       "   CLOSEST_DEFENDER_PLAYER_ID  CLOSE_DEF_DIST  FGM PTS    player_name  \\\n",
       "0                      101187             1.3    1   2  brian roberts   \n",
       "1                      202711             6.1    0   0  brian roberts   \n",
       "2                      203900             3.4    0   0  brian roberts   \n",
       "3                      201152             1.1    0   0  brian roberts   \n",
       "4                      101114             2.6    0   0  brian roberts   \n",
       "\n",
       "   player_id  prediction  SHOT_DIST  CLOSE_DEF_DIST SHOT_CLOCK  \n",
       "0     203148           4        7.7             1.3       10.8  \n",
       "1     203148           0       28.2             6.1        3.4  \n",
       "2     203148           0       17.2             3.4       10.3  \n",
       "3     203148           4        3.7             1.1       10.9  \n",
       "4     203148           0       18.4             2.6        9.1  \n",
       "\n",
       "[5 rows x 25 columns]"
      ]
     },
     "execution_count": 199,
     "metadata": {},
     "output_type": "execute_result"
    }
   ],
   "source": [
    "all_data = pd.concat([new_df, pred_data], axis=1, join='inner')\n",
    "all_data.head()"
   ]
  },
  {
   "cell_type": "code",
   "execution_count": 200,
   "metadata": {},
   "outputs": [
    {
     "data": {
      "text/html": [
       "<div>\n",
       "<style scoped>\n",
       "    .dataframe tbody tr th:only-of-type {\n",
       "        vertical-align: middle;\n",
       "    }\n",
       "\n",
       "    .dataframe tbody tr th {\n",
       "        vertical-align: top;\n",
       "    }\n",
       "\n",
       "    .dataframe thead th {\n",
       "        text-align: right;\n",
       "    }\n",
       "</style>\n",
       "<table border=\"1\" class=\"dataframe\">\n",
       "  <thead>\n",
       "    <tr style=\"text-align: right;\">\n",
       "      <th></th>\n",
       "      <th>GAME_ID</th>\n",
       "      <th>MATCHUP</th>\n",
       "      <th>LOCATION</th>\n",
       "      <th>W</th>\n",
       "      <th>FINAL_MARGIN</th>\n",
       "      <th>SHOT_NUMBER</th>\n",
       "      <th>PERIOD</th>\n",
       "      <th>GAME_CLOCK</th>\n",
       "      <th>SHOT_CLOCK</th>\n",
       "      <th>DRIBBLES</th>\n",
       "      <th>...</th>\n",
       "      <th>PTS_TYPE</th>\n",
       "      <th>SHOT_RESULT</th>\n",
       "      <th>CLOSEST_DEFENDER</th>\n",
       "      <th>CLOSEST_DEFENDER_PLAYER_ID</th>\n",
       "      <th>CLOSE_DEF_DIST</th>\n",
       "      <th>FGM</th>\n",
       "      <th>PTS</th>\n",
       "      <th>player_name</th>\n",
       "      <th>player_id</th>\n",
       "      <th>prediction</th>\n",
       "    </tr>\n",
       "  </thead>\n",
       "  <tbody>\n",
       "    <tr>\n",
       "      <th>0</th>\n",
       "      <td>21400899</td>\n",
       "      <td>MAR 04, 2015 - CHA @ BKN</td>\n",
       "      <td>A</td>\n",
       "      <td>W</td>\n",
       "      <td>24</td>\n",
       "      <td>1</td>\n",
       "      <td>1</td>\n",
       "      <td>2023-04-21 01:09:00</td>\n",
       "      <td>10.8</td>\n",
       "      <td>2</td>\n",
       "      <td>...</td>\n",
       "      <td>2</td>\n",
       "      <td>made</td>\n",
       "      <td>Anderson, Alan</td>\n",
       "      <td>101187</td>\n",
       "      <td>1.3</td>\n",
       "      <td>1</td>\n",
       "      <td>2</td>\n",
       "      <td>brian roberts</td>\n",
       "      <td>203148</td>\n",
       "      <td>4</td>\n",
       "    </tr>\n",
       "    <tr>\n",
       "      <th>1</th>\n",
       "      <td>21400899</td>\n",
       "      <td>MAR 04, 2015 - CHA @ BKN</td>\n",
       "      <td>A</td>\n",
       "      <td>W</td>\n",
       "      <td>24</td>\n",
       "      <td>2</td>\n",
       "      <td>1</td>\n",
       "      <td>2023-04-21 00:14:00</td>\n",
       "      <td>3.4</td>\n",
       "      <td>0</td>\n",
       "      <td>...</td>\n",
       "      <td>3</td>\n",
       "      <td>missed</td>\n",
       "      <td>Bogdanovic, Bojan</td>\n",
       "      <td>202711</td>\n",
       "      <td>6.1</td>\n",
       "      <td>0</td>\n",
       "      <td>0</td>\n",
       "      <td>brian roberts</td>\n",
       "      <td>203148</td>\n",
       "      <td>0</td>\n",
       "    </tr>\n",
       "    <tr>\n",
       "      <th>2</th>\n",
       "      <td>21400899</td>\n",
       "      <td>MAR 04, 2015 - CHA @ BKN</td>\n",
       "      <td>A</td>\n",
       "      <td>W</td>\n",
       "      <td>24</td>\n",
       "      <td>4</td>\n",
       "      <td>2</td>\n",
       "      <td>2023-04-21 11:47:00</td>\n",
       "      <td>10.3</td>\n",
       "      <td>2</td>\n",
       "      <td>...</td>\n",
       "      <td>2</td>\n",
       "      <td>missed</td>\n",
       "      <td>Brown, Markel</td>\n",
       "      <td>203900</td>\n",
       "      <td>3.4</td>\n",
       "      <td>0</td>\n",
       "      <td>0</td>\n",
       "      <td>brian roberts</td>\n",
       "      <td>203148</td>\n",
       "      <td>0</td>\n",
       "    </tr>\n",
       "    <tr>\n",
       "      <th>3</th>\n",
       "      <td>21400899</td>\n",
       "      <td>MAR 04, 2015 - CHA @ BKN</td>\n",
       "      <td>A</td>\n",
       "      <td>W</td>\n",
       "      <td>24</td>\n",
       "      <td>5</td>\n",
       "      <td>2</td>\n",
       "      <td>2023-04-21 10:34:00</td>\n",
       "      <td>10.9</td>\n",
       "      <td>2</td>\n",
       "      <td>...</td>\n",
       "      <td>2</td>\n",
       "      <td>missed</td>\n",
       "      <td>Young, Thaddeus</td>\n",
       "      <td>201152</td>\n",
       "      <td>1.1</td>\n",
       "      <td>0</td>\n",
       "      <td>0</td>\n",
       "      <td>brian roberts</td>\n",
       "      <td>203148</td>\n",
       "      <td>4</td>\n",
       "    </tr>\n",
       "    <tr>\n",
       "      <th>4</th>\n",
       "      <td>21400899</td>\n",
       "      <td>MAR 04, 2015 - CHA @ BKN</td>\n",
       "      <td>A</td>\n",
       "      <td>W</td>\n",
       "      <td>24</td>\n",
       "      <td>6</td>\n",
       "      <td>2</td>\n",
       "      <td>2023-04-21 08:15:00</td>\n",
       "      <td>9.1</td>\n",
       "      <td>2</td>\n",
       "      <td>...</td>\n",
       "      <td>2</td>\n",
       "      <td>missed</td>\n",
       "      <td>Williams, Deron</td>\n",
       "      <td>101114</td>\n",
       "      <td>2.6</td>\n",
       "      <td>0</td>\n",
       "      <td>0</td>\n",
       "      <td>brian roberts</td>\n",
       "      <td>203148</td>\n",
       "      <td>0</td>\n",
       "    </tr>\n",
       "  </tbody>\n",
       "</table>\n",
       "<p>5 rows × 22 columns</p>\n",
       "</div>"
      ],
      "text/plain": [
       "    GAME_ID                   MATCHUP LOCATION  W  FINAL_MARGIN  SHOT_NUMBER  \\\n",
       "0  21400899  MAR 04, 2015 - CHA @ BKN        A  W            24            1   \n",
       "1  21400899  MAR 04, 2015 - CHA @ BKN        A  W            24            2   \n",
       "2  21400899  MAR 04, 2015 - CHA @ BKN        A  W            24            4   \n",
       "3  21400899  MAR 04, 2015 - CHA @ BKN        A  W            24            5   \n",
       "4  21400899  MAR 04, 2015 - CHA @ BKN        A  W            24            6   \n",
       "\n",
       "   PERIOD          GAME_CLOCK  SHOT_CLOCK  DRIBBLES  ...  PTS_TYPE  \\\n",
       "0       1 2023-04-21 01:09:00        10.8         2  ...         2   \n",
       "1       1 2023-04-21 00:14:00         3.4         0  ...         3   \n",
       "2       2 2023-04-21 11:47:00        10.3         2  ...         2   \n",
       "3       2 2023-04-21 10:34:00        10.9         2  ...         2   \n",
       "4       2 2023-04-21 08:15:00         9.1         2  ...         2   \n",
       "\n",
       "   SHOT_RESULT   CLOSEST_DEFENDER CLOSEST_DEFENDER_PLAYER_ID CLOSE_DEF_DIST  \\\n",
       "0         made     Anderson, Alan                     101187            1.3   \n",
       "1       missed  Bogdanovic, Bojan                     202711            6.1   \n",
       "2       missed      Brown, Markel                     203900            3.4   \n",
       "3       missed    Young, Thaddeus                     201152            1.1   \n",
       "4       missed    Williams, Deron                     101114            2.6   \n",
       "\n",
       "   FGM  PTS    player_name  player_id prediction  \n",
       "0    1    2  brian roberts     203148          4  \n",
       "1    0    0  brian roberts     203148          0  \n",
       "2    0    0  brian roberts     203148          0  \n",
       "3    0    0  brian roberts     203148          4  \n",
       "4    0    0  brian roberts     203148          0  \n",
       "\n",
       "[5 rows x 22 columns]"
      ]
     },
     "execution_count": 200,
     "metadata": {},
     "output_type": "execute_result"
    }
   ],
   "source": [
    "\n",
    "all_data = new_df.merge(pred_data, on=['SHOT_DIST','CLOSE_DEF_DIST','SHOT_CLOCK'])\n",
    "all_data.head()"
   ]
  },
  {
   "cell_type": "code",
   "execution_count": 201,
   "metadata": {},
   "outputs": [
    {
     "data": {
      "text/plain": [
       "[Row(GAME_ID=21400899, MATCHUP='MAR 04, 2015 - CHA @ BKN', LOCATION='A', W='W', FINAL_MARGIN=24, SHOT_NUMBER=1, PERIOD=1, GAME_CLOCK=datetime.datetime(2023, 4, 21, 1, 9), SHOT_CLOCK=10.8, DRIBBLES=2, TOUCH_TIME=1.9, SHOT_DIST=7.7, PTS_TYPE=2, SHOT_RESULT='made', CLOSEST_DEFENDER='Anderson, Alan', CLOSEST_DEFENDER_PLAYER_ID=101187, CLOSE_DEF_DIST=1.3, FGM=1, PTS=2, player_name='brian roberts', player_id=203148, prediction=4),\n",
       " Row(GAME_ID=21400899, MATCHUP='MAR 04, 2015 - CHA @ BKN', LOCATION='A', W='W', FINAL_MARGIN=24, SHOT_NUMBER=2, PERIOD=1, GAME_CLOCK=datetime.datetime(2023, 4, 21, 0, 14), SHOT_CLOCK=3.4, DRIBBLES=0, TOUCH_TIME=0.8, SHOT_DIST=28.2, PTS_TYPE=3, SHOT_RESULT='missed', CLOSEST_DEFENDER='Bogdanovic, Bojan', CLOSEST_DEFENDER_PLAYER_ID=202711, CLOSE_DEF_DIST=6.1, FGM=0, PTS=0, player_name='brian roberts', player_id=203148, prediction=0),\n",
       " Row(GAME_ID=21400899, MATCHUP='MAR 04, 2015 - CHA @ BKN', LOCATION='A', W='W', FINAL_MARGIN=24, SHOT_NUMBER=4, PERIOD=2, GAME_CLOCK=datetime.datetime(2023, 4, 21, 11, 47), SHOT_CLOCK=10.3, DRIBBLES=2, TOUCH_TIME=1.9, SHOT_DIST=17.2, PTS_TYPE=2, SHOT_RESULT='missed', CLOSEST_DEFENDER='Brown, Markel', CLOSEST_DEFENDER_PLAYER_ID=203900, CLOSE_DEF_DIST=3.4, FGM=0, PTS=0, player_name='brian roberts', player_id=203148, prediction=0),\n",
       " Row(GAME_ID=21400899, MATCHUP='MAR 04, 2015 - CHA @ BKN', LOCATION='A', W='W', FINAL_MARGIN=24, SHOT_NUMBER=5, PERIOD=2, GAME_CLOCK=datetime.datetime(2023, 4, 21, 10, 34), SHOT_CLOCK=10.9, DRIBBLES=2, TOUCH_TIME=2.7, SHOT_DIST=3.7, PTS_TYPE=2, SHOT_RESULT='missed', CLOSEST_DEFENDER='Young, Thaddeus', CLOSEST_DEFENDER_PLAYER_ID=201152, CLOSE_DEF_DIST=1.1, FGM=0, PTS=0, player_name='brian roberts', player_id=203148, prediction=4),\n",
       " Row(GAME_ID=21400899, MATCHUP='MAR 04, 2015 - CHA @ BKN', LOCATION='A', W='W', FINAL_MARGIN=24, SHOT_NUMBER=6, PERIOD=2, GAME_CLOCK=datetime.datetime(2023, 4, 21, 8, 15), SHOT_CLOCK=9.1, DRIBBLES=2, TOUCH_TIME=4.4, SHOT_DIST=18.4, PTS_TYPE=2, SHOT_RESULT='missed', CLOSEST_DEFENDER='Williams, Deron', CLOSEST_DEFENDER_PLAYER_ID=101114, CLOSE_DEF_DIST=2.6, FGM=0, PTS=0, player_name='brian roberts', player_id=203148, prediction=0),\n",
       " Row(GAME_ID=21400899, MATCHUP='MAR 04, 2015 - CHA @ BKN', LOCATION='A', W='W', FINAL_MARGIN=24, SHOT_NUMBER=7, PERIOD=4, GAME_CLOCK=datetime.datetime(2023, 4, 21, 10, 15), SHOT_CLOCK=14.5, DRIBBLES=11, TOUCH_TIME=9.0, SHOT_DIST=20.7, PTS_TYPE=2, SHOT_RESULT='missed', CLOSEST_DEFENDER='Jack, Jarrett', CLOSEST_DEFENDER_PLAYER_ID=101127, CLOSE_DEF_DIST=6.1, FGM=0, PTS=0, player_name='brian roberts', player_id=203148, prediction=3),\n",
       " Row(GAME_ID=21400899, MATCHUP='MAR 04, 2015 - CHA @ BKN', LOCATION='A', W='W', FINAL_MARGIN=24, SHOT_NUMBER=7, PERIOD=4, GAME_CLOCK=datetime.datetime(2023, 4, 21, 10, 15), SHOT_CLOCK=14.5, DRIBBLES=11, TOUCH_TIME=9.0, SHOT_DIST=20.7, PTS_TYPE=2, SHOT_RESULT='missed', CLOSEST_DEFENDER='Jack, Jarrett', CLOSEST_DEFENDER_PLAYER_ID=101127, CLOSE_DEF_DIST=6.1, FGM=0, PTS=0, player_name='brian roberts', player_id=203148, prediction=3),\n",
       " Row(GAME_ID=21400053, MATCHUP='NOV 04, 2014 - ORL @ CHI', LOCATION='A', W='L', FINAL_MARGIN=-8, SHOT_NUMBER=3, PERIOD=1, GAME_CLOCK=datetime.datetime(2023, 4, 21, 4, 6), SHOT_CLOCK=14.5, DRIBBLES=11, TOUCH_TIME=9.7, SHOT_DIST=20.7, PTS_TYPE=2, SHOT_RESULT='missed', CLOSEST_DEFENDER='Hinrich, Kirk', CLOSEST_DEFENDER_PLAYER_ID=2550, CLOSE_DEF_DIST=6.1, FGM=0, PTS=0, player_name='elfrid payton', player_id=203901, prediction=3),\n",
       " Row(GAME_ID=21400053, MATCHUP='NOV 04, 2014 - ORL @ CHI', LOCATION='A', W='L', FINAL_MARGIN=-8, SHOT_NUMBER=3, PERIOD=1, GAME_CLOCK=datetime.datetime(2023, 4, 21, 4, 6), SHOT_CLOCK=14.5, DRIBBLES=11, TOUCH_TIME=9.7, SHOT_DIST=20.7, PTS_TYPE=2, SHOT_RESULT='missed', CLOSEST_DEFENDER='Hinrich, Kirk', CLOSEST_DEFENDER_PLAYER_ID=2550, CLOSE_DEF_DIST=6.1, FGM=0, PTS=0, player_name='elfrid payton', player_id=203901, prediction=3),\n",
       " Row(GAME_ID=21400899, MATCHUP='MAR 04, 2015 - CHA @ BKN', LOCATION='A', W='W', FINAL_MARGIN=24, SHOT_NUMBER=8, PERIOD=4, GAME_CLOCK=datetime.datetime(2023, 4, 21, 8, 0), SHOT_CLOCK=3.4, DRIBBLES=3, TOUCH_TIME=2.5, SHOT_DIST=3.5, PTS_TYPE=2, SHOT_RESULT='made', CLOSEST_DEFENDER='Plumlee, Mason', CLOSEST_DEFENDER_PLAYER_ID=203486, CLOSE_DEF_DIST=2.1, FGM=1, PTS=2, player_name='brian roberts', player_id=203148, prediction=2)]"
      ]
     },
     "execution_count": 201,
     "metadata": {},
     "output_type": "execute_result"
    }
   ],
   "source": [
    "new_df=spark.createDataFrame(all_data)\n",
    "players_list = ['james harden','chris paul','stephen curry','lebron james']\n",
    "new_df.head(10)"
   ]
  },
  {
   "cell_type": "code",
   "execution_count": 202,
   "metadata": {},
   "outputs": [],
   "source": [
    "# Create an empty RDD\n",
    "empty_rdd = spark.sparkContext.emptyRDD()\n",
    "\n",
    "# Define the schema for the DataFrame\n",
    "player_schema = StructType([\n",
    "    StructField('name', StringType(), False),\n",
    "    StructField('group', StringType(), False),\n",
    "    StructField('hits', IntegerType(), False),\n",
    "    StructField('total', IntegerType(), False)\n",
    "])\n",
    "\n",
    "# Create a DataFrame with the empty RDD and the defined schema\n",
    "player_df = spark.createDataFrame(empty_rdd, schema=player_schema)"
   ]
  },
  {
   "cell_type": "code",
   "execution_count": 203,
   "metadata": {},
   "outputs": [],
   "source": [
    "filtered_data = new_df.filter(new_df.player_name.isin(players_list))\n",
    "data_rdd = spark.createDataFrame(data=empty_rdd,schema=player_schema)\n",
    "filtered_data.createOrReplaceTempView(\"NBAData\")"
   ]
  },
  {
   "cell_type": "code",
   "execution_count": 204,
   "metadata": {},
   "outputs": [
    {
     "name": "stdout",
     "output_type": "stream",
     "text": [
      "+-------------+----------+----+\n",
      "|  player_name|prediction|hits|\n",
      "+-------------+----------+----+\n",
      "| lebron james|         4|  94|\n",
      "|stephen curry|         3| 205|\n",
      "| james harden|         1| 124|\n",
      "| james harden|         0| 129|\n",
      "|stephen curry|         1|  84|\n",
      "| lebron james|         2|  82|\n",
      "|   chris paul|         3| 173|\n",
      "|stephen curry|         2|  33|\n",
      "|stephen curry|         0|  65|\n",
      "|stephen curry|         4|  98|\n",
      "| james harden|         3|  95|\n",
      "| lebron james|         0| 110|\n",
      "|   chris paul|         4|  76|\n",
      "| james harden|         2|  40|\n",
      "| james harden|         4|  99|\n",
      "|   chris paul|         0| 117|\n",
      "| lebron james|         1| 136|\n",
      "| lebron james|         3|  72|\n",
      "|   chris paul|         2|  37|\n",
      "|   chris paul|         1|  28|\n",
      "+-------------+----------+----+\n",
      "\n"
     ]
    }
   ],
   "source": [
    "from pyspark.sql.functions import count, when\n",
    "\n",
    "df = filtered_data.filter(filtered_data.SHOT_RESULT == 'made') \\\n",
    "            .groupBy('player_name', 'prediction') \\\n",
    "            .agg(count('SHOT_RESULT').alias('hits')) \\\n",
    "            .select('player_name', 'prediction', 'hits')\n",
    "df.show()"
   ]
  },
  {
   "cell_type": "code",
   "execution_count": 206,
   "metadata": {},
   "outputs": [
    {
     "name": "stdout",
     "output_type": "stream",
     "text": [
      "+-------------+-------------+-----------+\n",
      "|       player|cluster_group|total_shots|\n",
      "+-------------+-------------+-----------+\n",
      "| james harden|            3|        299|\n",
      "| lebron james|            4|        186|\n",
      "|stephen curry|            3|        478|\n",
      "| lebron james|            1|        189|\n",
      "|   chris paul|            3|        352|\n",
      "| james harden|            1|        217|\n",
      "|stephen curry|            0|        162|\n",
      "| lebron james|            0|        301|\n",
      "| james harden|            4|        186|\n",
      "|   chris paul|            0|        267|\n",
      "| lebron james|            3|        180|\n",
      "| james harden|            0|        297|\n",
      "|   chris paul|            2|         70|\n",
      "|stephen curry|            1|        126|\n",
      "| lebron james|            2|        147|\n",
      "|stephen curry|            2|         57|\n",
      "|stephen curry|            4|        165|\n",
      "|   chris paul|            1|         45|\n",
      "|   chris paul|            4|        157|\n",
      "| james harden|            2|         88|\n",
      "+-------------+-------------+-----------+\n",
      "\n"
     ]
    }
   ],
   "source": [
    "result_df = filtered_data \\\n",
    "  .groupBy(\"player_name\", \"prediction\") \\\n",
    "  .agg(count(\"*\").alias(\"total_shots\"), \\\n",
    "       filtered_data[\"player_name\"].alias(\"player\"), \\\n",
    "       filtered_data[\"prediction\"].alias(\"cluster_group\")) \\\n",
    "  .select(\"player\", \"cluster_group\", \"total_shots\")\n",
    "\n",
    "result_df.show()"
   ]
  },
  {
   "cell_type": "code",
   "execution_count": 207,
   "metadata": {},
   "outputs": [],
   "source": [
    "query1 = spark.sql(\"SELECT player_name,prediction as cluster,COUNT(SHOT_RESULT) as hits FROM NBAData WHERE SHOT_RESULT='made' GROUP BY player_name,prediction\")\n",
    "\n",
    "query2 = spark.sql(\"SELECT player_name as player,prediction as cluster_group, COUNT(*) as total_shots FROM NBAData GROUP BY player_name,prediction\")\n"
   ]
  },
  {
   "cell_type": "code",
   "execution_count": 208,
   "metadata": {},
   "outputs": [
    {
     "data": {
      "text/plain": [
       "DataFrame[player_name: string, cluster: bigint, hits: bigint, player: string, cluster_group: bigint, total_shots: bigint]"
      ]
     },
     "execution_count": 208,
     "metadata": {},
     "output_type": "execute_result"
    }
   ],
   "source": [
    "join_data = query1.join(query2,(query1.player_name==query2.player) & (query1.cluster==query2.cluster_group))\n",
    "join_data"
   ]
  },
  {
   "cell_type": "code",
   "execution_count": 209,
   "metadata": {},
   "outputs": [],
   "source": [
    "join_data = join_data.withColumn(\"Hit_rate\",(F.col(\"hits\")/F.col(\"total_shots\")))"
   ]
  },
  {
   "cell_type": "code",
   "execution_count": 210,
   "metadata": {},
   "outputs": [
    {
     "name": "stdout",
     "output_type": "stream",
     "text": [
      "+-------------+-------+----+-------------+-------------+-----------+-------------------+\n",
      "|  player_name|cluster|hits|       player|cluster_group|total_shots|           Hit_rate|\n",
      "+-------------+-------+----+-------------+-------------+-----------+-------------------+\n",
      "| james harden|      3|  95| james harden|            3|        299| 0.3177257525083612|\n",
      "| lebron james|      4|  94| lebron james|            4|        186| 0.5053763440860215|\n",
      "|stephen curry|      3| 205|stephen curry|            3|        478|0.42887029288702927|\n",
      "| lebron james|      1| 136| lebron james|            1|        189| 0.7195767195767195|\n",
      "|   chris paul|      3| 173|   chris paul|            3|        352| 0.4914772727272727|\n",
      "| james harden|      1| 124| james harden|            1|        217| 0.5714285714285714|\n",
      "|stephen curry|      0|  65|stephen curry|            0|        162| 0.4012345679012346|\n",
      "| lebron james|      0| 110| lebron james|            0|        301| 0.3654485049833887|\n",
      "| james harden|      4|  99| james harden|            4|        186|  0.532258064516129|\n",
      "|   chris paul|      0| 117|   chris paul|            0|        267|0.43820224719101125|\n",
      "| lebron james|      3|  72| lebron james|            3|        180|                0.4|\n",
      "| james harden|      0| 129| james harden|            0|        297|0.43434343434343436|\n",
      "|   chris paul|      2|  37|   chris paul|            2|         70| 0.5285714285714286|\n",
      "|stephen curry|      1|  84|stephen curry|            1|        126| 0.6666666666666666|\n",
      "| lebron james|      2|  82| lebron james|            2|        147| 0.5578231292517006|\n",
      "|stephen curry|      2|  33|stephen curry|            2|         57| 0.5789473684210527|\n",
      "|stephen curry|      4|  98|stephen curry|            4|        165|  0.593939393939394|\n",
      "|   chris paul|      1|  28|   chris paul|            1|         45| 0.6222222222222222|\n",
      "|   chris paul|      4|  76|   chris paul|            4|        157| 0.4840764331210191|\n",
      "| james harden|      2|  40| james harden|            2|         88|0.45454545454545453|\n",
      "+-------------+-------+----+-------------+-------------+-----------+-------------------+\n",
      "\n"
     ]
    }
   ],
   "source": [
    "join_data.show()"
   ]
  },
  {
   "cell_type": "code",
   "execution_count": 211,
   "metadata": {},
   "outputs": [],
   "source": [
    "join_data.createOrReplaceTempView(\"HitRate\")"
   ]
  },
  {
   "cell_type": "code",
   "execution_count": 212,
   "metadata": {},
   "outputs": [
    {
     "name": "stdout",
     "output_type": "stream",
     "text": [
      "+-------------+------------+------------------+\n",
      "|  player_name|comfort_zone|          Hit_rate|\n",
      "+-------------+------------+------------------+\n",
      "|   chris paul|           1|0.6222222222222222|\n",
      "| lebron james|           1|0.7195767195767195|\n",
      "|stephen curry|           1|0.6666666666666666|\n",
      "| james harden|           1|0.5714285714285714|\n",
      "+-------------+------------+------------------+\n",
      "\n"
     ]
    }
   ],
   "source": [
    "predicted = spark.sql(\"SELECT player_name,cluster as comfort_zone,Hit_rate FROM HitRate WHERE Hit_rate in (SELECT max(Hit_rate) FROM HitRate GROUP BY player_name)\")\n",
    "predicted.show()"
   ]
  },
  {
   "cell_type": "code",
   "execution_count": null,
   "metadata": {},
   "outputs": [],
   "source": [
    "Q: For each player, we define the comfortable zone of shooting is a matrix of,{SHOT DIST, CLOSE DEF DIST, SHOT CLOCK}. Please develop a Spark-based algorithm to classify each player’s records into 4 comfort-\n",
    "able zones. Considering the hit rate, which zone is the best for James Harden, Chris Paul,Stephen Curry, and Lebron James. \n",
    "\n",
    "Ans:  \n",
    "chris paul         Comfort zone 1\n",
    "lebron james       Comfort zone 1\n",
    "stephen curry      Comfort zone 1\n",
    "james harden        Comfort zone 1"
   ]
  }
 ],
 "metadata": {
  "kernelspec": {
   "display_name": "Python 3",
   "language": "python",
   "name": "python3"
  },
  "language_info": {
   "codemirror_mode": {
    "name": "ipython",
    "version": 3
   },
   "file_extension": ".py",
   "mimetype": "text/x-python",
   "name": "python",
   "nbconvert_exporter": "python",
   "pygments_lexer": "ipython3",
   "version": "3.10.11"
  },
  "orig_nbformat": 4
 },
 "nbformat": 4,
 "nbformat_minor": 2
}
