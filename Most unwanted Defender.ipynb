{
 "cells": [
  {
   "cell_type": "code",
   "execution_count": 3,
   "metadata": {},
   "outputs": [],
   "source": [
    "from pyspark.sql.functions import *\n",
    "from pyspark.sql.types import *\n",
    "from pyspark.sql import SparkSession"
   ]
  },
  {
   "cell_type": "code",
   "execution_count": 4,
   "metadata": {},
   "outputs": [],
   "source": [
    "spark=SparkSession.builder.appName('Shot_analysis').getOrCreate()"
   ]
  },
  {
   "cell_type": "code",
   "execution_count": 5,
   "metadata": {},
   "outputs": [],
   "source": [
    "# Load the NBA shot logs dataset into a PySpark dataframe\n",
    "nba_df = spark.read.csv(\"C:/Users/mayur/OneDrive/Desktop/CoursesSem2/ECC/A02/shot_logs.csv\",header=True,inferSchema=True)\n"
   ]
  },
  {
   "cell_type": "code",
   "execution_count": 6,
   "metadata": {},
   "outputs": [
    {
     "name": "stdout",
     "output_type": "stream",
     "text": [
      "+--------+--------------------+--------+---+------------+-----------+------+-------------------+----------+--------+----------+---------+--------+-----------+-----------------+--------------------------+--------------+---+---+-------------+---------+\n",
      "| GAME_ID|             MATCHUP|LOCATION|  W|FINAL_MARGIN|SHOT_NUMBER|PERIOD|         GAME_CLOCK|SHOT_CLOCK|DRIBBLES|TOUCH_TIME|SHOT_DIST|PTS_TYPE|SHOT_RESULT| CLOSEST_DEFENDER|CLOSEST_DEFENDER_PLAYER_ID|CLOSE_DEF_DIST|FGM|PTS|  player_name|player_id|\n",
      "+--------+--------------------+--------+---+------------+-----------+------+-------------------+----------+--------+----------+---------+--------+-----------+-----------------+--------------------------+--------------+---+---+-------------+---------+\n",
      "|21400899|MAR 04, 2015 - CH...|       A|  W|          24|          1|     1|2023-04-21 01:09:00|      10.8|       2|       1.9|      7.7|       2|       made|   Anderson, Alan|                    101187|           1.3|  1|  2|brian roberts|   203148|\n",
      "|21400899|MAR 04, 2015 - CH...|       A|  W|          24|          2|     1|2023-04-21 00:14:00|       3.4|       0|       0.8|     28.2|       3|     missed|Bogdanovic, Bojan|                    202711|           6.1|  0|  0|brian roberts|   203148|\n",
      "|21400899|MAR 04, 2015 - CH...|       A|  W|          24|          3|     1|2023-04-21 00:00:00|      null|       3|       2.7|     10.1|       2|     missed|Bogdanovic, Bojan|                    202711|           0.9|  0|  0|brian roberts|   203148|\n",
      "|21400899|MAR 04, 2015 - CH...|       A|  W|          24|          4|     2|2023-04-21 11:47:00|      10.3|       2|       1.9|     17.2|       2|     missed|    Brown, Markel|                    203900|           3.4|  0|  0|brian roberts|   203148|\n",
      "|21400899|MAR 04, 2015 - CH...|       A|  W|          24|          5|     2|2023-04-21 10:34:00|      10.9|       2|       2.7|      3.7|       2|     missed|  Young, Thaddeus|                    201152|           1.1|  0|  0|brian roberts|   203148|\n",
      "|21400899|MAR 04, 2015 - CH...|       A|  W|          24|          6|     2|2023-04-21 08:15:00|       9.1|       2|       4.4|     18.4|       2|     missed|  Williams, Deron|                    101114|           2.6|  0|  0|brian roberts|   203148|\n",
      "|21400899|MAR 04, 2015 - CH...|       A|  W|          24|          7|     4|2023-04-21 10:15:00|      14.5|      11|       9.0|     20.7|       2|     missed|    Jack, Jarrett|                    101127|           6.1|  0|  0|brian roberts|   203148|\n",
      "|21400899|MAR 04, 2015 - CH...|       A|  W|          24|          8|     4|2023-04-21 08:00:00|       3.4|       3|       2.5|      3.5|       2|       made|   Plumlee, Mason|                    203486|           2.1|  1|  2|brian roberts|   203148|\n",
      "|21400899|MAR 04, 2015 - CH...|       A|  W|          24|          9|     4|2023-04-21 05:14:00|      12.4|       0|       0.8|     24.6|       3|     missed|   Morris, Darius|                    202721|           7.3|  0|  0|brian roberts|   203148|\n",
      "|21400890|MAR 03, 2015 - CH...|       H|  W|           1|          1|     2|2023-04-21 11:32:00|      17.4|       0|       1.1|     22.4|       3|     missed| Ellington, Wayne|                    201961|          19.8|  0|  0|brian roberts|   203148|\n",
      "|21400890|MAR 03, 2015 - CH...|       H|  W|           1|          2|     2|2023-04-21 06:30:00|      16.0|       8|       7.5|     24.5|       3|     missed|      Lin, Jeremy|                    202391|           4.7|  0|  0|brian roberts|   203148|\n",
      "|21400890|MAR 03, 2015 - CH...|       H|  W|           1|          3|     4|2023-04-21 11:32:00|      12.1|      14|      11.9|     14.6|       2|       made|      Lin, Jeremy|                    202391|           1.8|  1|  2|brian roberts|   203148|\n",
      "|21400890|MAR 03, 2015 - CH...|       H|  W|           1|          4|     4|2023-04-21 08:55:00|       4.3|       2|       2.9|      5.9|       2|       made|     Hill, Jordan|                    201941|           5.4|  1|  2|brian roberts|   203148|\n",
      "|21400882|MAR 01, 2015 - CH...|       A|  W|          15|          1|     4|2023-04-21 09:10:00|       4.4|       0|       0.8|     26.4|       3|     missed|    Green, Willie|                      2584|           4.4|  0|  0|brian roberts|   203148|\n",
      "|21400859|FEB 27, 2015 - CH...|       A|  L|          -8|          1|     1|2023-04-21 00:48:00|       6.8|       0|       0.5|     22.8|       3|     missed|    Smart, Marcus|                    203935|           5.3|  0|  0|brian roberts|   203148|\n",
      "|21400859|FEB 27, 2015 - CH...|       A|  L|          -8|          2|     2|2023-04-21 10:38:00|       6.4|       3|       2.7|     24.7|       3|       made|     Young, James|                    203923|           5.6|  1|  3|brian roberts|   203148|\n",
      "|21400859|FEB 27, 2015 - CH...|       A|  L|          -8|          3|     2|2023-04-21 08:27:00|      17.6|       6|       5.1|     25.0|       3|     missed|   Jerebko, Jonas|                    201973|           5.4|  0|  0|brian roberts|   203148|\n",
      "|21400859|FEB 27, 2015 - CH...|       A|  L|          -8|          4|     4|2023-04-21 10:55:00|       8.7|       1|       0.9|     25.6|       3|     missed|     Crowder, Jae|                    203109|           5.1|  0|  0|brian roberts|   203148|\n",
      "|21400859|FEB 27, 2015 - CH...|       A|  L|          -8|          5|     4|2023-04-21 10:29:00|      20.8|       0|       1.2|     24.2|       3|       made|   Thomas, Isaiah|                    202738|          11.1|  1|  3|brian roberts|   203148|\n",
      "|21400845|FEB 25, 2015 - CH...|       A|  W|          12|          1|     1|2023-04-21 03:35:00|      17.5|       2|       2.2|     25.4|       3|     missed|    Brooks, Aaron|                    201166|           3.5|  0|  0|brian roberts|   203148|\n",
      "+--------+--------------------+--------+---+------------+-----------+------+-------------------+----------+--------+----------+---------+--------+-----------+-----------------+--------------------------+--------------+---+---+-------------+---------+\n",
      "only showing top 20 rows\n",
      "\n"
     ]
    }
   ],
   "source": [
    "nba_df.show()"
   ]
  },
  {
   "cell_type": "code",
   "execution_count": 7,
   "metadata": {},
   "outputs": [],
   "source": [
    "shot_result_df = (nba_df\n",
    "             .groupBy(['player_name', 'CLOSEST_DEFENDER', 'SHOT_RESULT'])\n",
    "             .agg(count('*').alias('count'))\n",
    "            )\n"
   ]
  },
  {
   "cell_type": "code",
   "execution_count": 9,
   "metadata": {},
   "outputs": [
    {
     "name": "stdout",
     "output_type": "stream",
     "text": [
      "+----------------+-----------------+-----------+-----+\n",
      "|     player_name| CLOSEST_DEFENDER|SHOT_RESULT|count|\n",
      "+----------------+-----------------+-----------+-----+\n",
      "|    al jefferson|    Aldrich, Cole|       made|    2|\n",
      "|    al jefferson|   Morris, Marcus|       made|    2|\n",
      "|       gary neal|     Hibbert, Roy|       made|    1|\n",
      "|gerald henderson|    James, LeBron|     missed|    2|\n",
      "|gerald henderson|   Ross, Terrence|     missed|    2|\n",
      "|    kemba walker|    Green, Willie|     missed|    1|\n",
      "|lance stephenson| Barnes, Harrison|       made|    1|\n",
      "| marvin williams|Pondexter, Quincy|       made|    1|\n",
      "|   jason maxiell|      Acy, Quincy|     missed|    2|\n",
      "|  gordon hayward|  Oladipo, Victor|     missed|    1|\n",
      "|     enes kanter|      Bosh, Chris|       made|    2|\n",
      "|     enes kanter|Hansbrough, Tyler|     missed|    2|\n",
      "|      jon ingles| Morris, Markieff|     missed|    2|\n",
      "|      trey burke|      Ayres, Jeff|       made|    1|\n",
      "|      trey burke| Sefolosha, Thabo|       made|    1|\n",
      "|      jeremy lin|Cousins, DeMarcus|       made|    1|\n",
      "|      jeremy lin|  Jackson, Reggie|     missed|    2|\n",
      "|      jeremy lin|  Drummond, Andre|     missed|    1|\n",
      "|      jeremy lin|   Ross, Terrence|     missed|    1|\n",
      "|     kobe bryant|      Gee, Alonzo|     missed|    3|\n",
      "+----------------+-----------------+-----------+-----+\n",
      "only showing top 20 rows\n",
      "\n"
     ]
    }
   ],
   "source": [
    "shot_result_df = nba_df.show()"
   ]
  },
  {
   "cell_type": "code",
   "execution_count": 10,
   "metadata": {},
   "outputs": [],
   "source": [
    "# Select required columns\n",
    "shot_result_df_1 = nba_df.select(['player_name', 'CLOSEST_DEFENDER', 'SHOT_RESULT'])\n",
    "\n",
    "# Group by player name and closest defender, and pivot on shot result\n",
    "fear_playerwise_count = shot_result_df_1.groupBy(['player_name', 'CLOSEST_DEFENDER']) \\\n",
    "                       .pivot('SHOT_RESULT') \\\n",
    "                       .count() \\\n",
    "                       .na.fill(0)\n",
    "\n",
    "# Calculate fear score\n",
    "fear_playerwise_count = fear_playerwise_count.withColumn('fear_score', col('made')/(col('made') + col('missed')))",
      
"import numpy as np",
"import pandas as pd",

"# Convert the PySpark DataFrame to a Pandas DataFrame",
"unwanted_defender_df_pd = unwanted_defender_df.toPandas()",

"# Perform NumPy operations - normalize the 'fear_score' column",
"fear_scores = unwanted_defender_df_pd['min_fear_score'].values",
"normalized_fear_scores = (fear_scores - np.min(fear_scores)) / (np.max(fear_scores) - np.min(fear_scores))",
"unwanted_defender_df_pd['normalized_fear_score'] = normalized_fear_scores",

"# Convert the Pandas DataFrame back to a PySpark DataFrame",
"unwanted_defender_df_spark = spark.createDataFrame(unwanted_defender_df_pd)",

"# Show the resulting DataFrame",
"unwanted_defender_df_spark.show()",

   ]
  },

  {
   "cell_type": "code",
   "execution_count": 12,
   "metadata": {},
   "outputs": [
    {
     "name": "stdout",
     "output_type": "stream",
     "text": [
      "+-------------+-----------------+-----------+\n",
      "|  player_name| CLOSEST_DEFENDER|SHOT_RESULT|\n",
      "+-------------+-----------------+-----------+\n",
      "|brian roberts|   Anderson, Alan|       made|\n",
      "|brian roberts|Bogdanovic, Bojan|     missed|\n",
      "|brian roberts|Bogdanovic, Bojan|     missed|\n",
      "|brian roberts|    Brown, Markel|     missed|\n",
      "|brian roberts|  Young, Thaddeus|     missed|\n",
      "|brian roberts|  Williams, Deron|     missed|\n",
      "|brian roberts|    Jack, Jarrett|     missed|\n",
      "|brian roberts|   Plumlee, Mason|       made|\n",
      "|brian roberts|   Morris, Darius|     missed|\n",
      "|brian roberts| Ellington, Wayne|     missed|\n",
      "|brian roberts|      Lin, Jeremy|     missed|\n",
      "|brian roberts|      Lin, Jeremy|       made|\n",
      "|brian roberts|     Hill, Jordan|       made|\n",
      "|brian roberts|    Green, Willie|     missed|\n",
      "|brian roberts|    Smart, Marcus|     missed|\n",
      "|brian roberts|     Young, James|       made|\n",
      "|brian roberts|   Jerebko, Jonas|     missed|\n",
      "|brian roberts|     Crowder, Jae|     missed|\n",
      "|brian roberts|   Thomas, Isaiah|       made|\n",
      "|brian roberts|    Brooks, Aaron|     missed|\n",
      "+-------------+-----------------+-----------+\n",
      "only showing top 20 rows\n",
      "\n"
     ]
    }
   ],
   "source": [
    "shot_result_df_1.show()"
   ]
  },
  {
   "cell_type": "code",
   "execution_count": null,
   "metadata": {},
   "outputs": [],
   "source": []
  },
  {
   "cell_type": "code",
   "execution_count": 11,
   "metadata": {},
   "outputs": [
    {
     "name": "stdout",
     "output_type": "stream",
     "text": [
      "+---------------+------------------+----+------+------------------+\n",
      "|    player_name|  CLOSEST_DEFENDER|made|missed|        fear_score|\n",
      "+---------------+------------------+----+------+------------------+\n",
      "|   nene hilario|Westbrook, Russell|   1|     0|               1.0|\n",
      "|  brian roberts|        Gasol, Pau|   0|     1|               0.0|\n",
      "|    kyle korver|      Meeks, Jodie|   1|     1|               0.5|\n",
      "|     mike scott|    Griffin, Blake|   0|     4|               0.0|\n",
      "|      john wall|  Robinson, Thomas|   1|     0|               1.0|\n",
      "|   tyreke evans|     McDaniels, KJ|   1|     1|               0.5|\n",
      "|harrison barnes|     Harris, Devin|   2|     1|0.6666666666666666|\n",
      "|     nick young|       Love, Kevin|   1|     3|              0.25|\n",
      "|      gary neal|     Smart, Marcus|   0|     4|               0.0|\n",
      "|  trevor booker|    Frye, Channing|   1|     1|               0.5|\n",
      "|    paul pierce|        Tucker, PJ|   3|     5|             0.375|\n",
      "|  ryan anderson|     Butler, Jimmy|   1|     1|               0.5|\n",
      "|    paul pierce|    Afflalo, Arron|   0|     1|               0.0|\n",
      "|      john wall|   Prigioni, Pablo|   1|     0|               1.0|\n",
      "|  rasual butler|Speights, Marreese|   1|     0|               1.0|\n",
      "| draymond green|Westbrook, Russell|   0|     3|               0.0|\n",
      "|   luke babbitt|      Jones, Perry|   0|     1|               0.0|\n",
      "|     jeremy lin|      Gobert, Rudy|   0|     1|               0.0|\n",
      "|    kobe bryant|Valanciunas, Jonas|   1|     2|0.3333333333333333|\n",
      "| garrett temple| Mbah a Moute, Luc|   0|     1|               0.0|\n",
      "+---------------+------------------+----+------+------------------+\n",
      "only showing top 20 rows\n",
      "\n"
     ]
    }
   ],
   "source": [
    "shot_result_df_1.show()"
   ]
  },
  {
   "cell_type": "code",
   "execution_count": 13,
   "metadata": {},
   "outputs": [],
   "source": [
    "shot_result_df_1 = (nba_df.groupBy(['player_name', 'CLOSEST_DEFENDER', 'SHOT_RESULT'])\n",
    "                    .agg(count('*').alias('count')))"
   ]
  },
  {
   "cell_type": "code",
   "execution_count": 14,
   "metadata": {},
   "outputs": [],
   "source": [
    "unwanted_defender_df = (\n",
    "    fear_playerwise_count\n",
    "    .groupBy(\"player_name\")\n",
    "    .agg(\n",
    "        min(\"fear_score\").alias(\"min_fear_score\"), \n",
    "        first(\"CLOSEST_DEFENDER\").alias(\"most_unwanted_defender\")\n",
    "    )\n",
    ")"
   ]
  },
  {
   "cell_type": "code",
   "execution_count": 15,
   "metadata": {},
   "outputs": [
    {
     "name": "stdout",
     "output_type": "stream",
     "text": [
      "+----------------+--------------+----------------------+\n",
      "|     player_name|min_fear_score|most_unwanted_defender|\n",
      "+----------------+--------------+----------------------+\n",
      "|    aaron brooks|           0.0|          Smith, Jason|\n",
      "|    aaron gordon|           0.0|        Rivers, Austin|\n",
      "| al farouq aminu|           0.0|         Lee, Courtney|\n",
      "|      al horford|           0.0|        Nowitzki, Dirk|\n",
      "|    al jefferson|           0.0|             Len, Alex|\n",
      "|   alan anderson|           0.0|          Zeller, Cody|\n",
      "|     alan crabbe|           0.0|      Sefolosha, Thabo|\n",
      "|        alex len|           0.0|       Knight, Brandon|\n",
      "|   alexis ajinca|           0.0|        Hawes, Spencer|\n",
      "|      alonzo gee|           0.0|         Dragic, Goran|\n",
      "|amare stoudemire|           0.0|        Garnett, Kevin|\n",
      "|    amir johnson|           0.0|          Hibbert, Roy|\n",
      "|  andre drummond|           0.0|         Millsap, Paul|\n",
      "|  andre iguodala|           0.0|        Hummel, Robbie|\n",
      "|    andre miller|           0.0|      Middleton, Khris|\n",
      "|  andre roberson|           0.0|           Ingles, Joe|\n",
      "|    andrew bogut|           0.0|         O'Quinn, Kyle|\n",
      "|  andrew wiggins|           0.0|        Afflalo, Arron|\n",
      "| anthony bennett|           0.0|        Ajinca, Alexis|\n",
      "|   anthony davis|           0.0|       Wallace, Gerald|\n",
      "+----------------+--------------+----------------------+\n",
      "only showing top 20 rows\n",
      "\n"
     ]
    }
   ],
   "source": [
    "unwanted_defender_df.show()"
   ]
  },
  {
   "attachments": {},
   "cell_type": "markdown",
   "metadata": {},
   "source": [
    "The most unwanted defender corresponding to every player"
   ]
  }
 ],
 "metadata": {
  "kernelspec": {
   "display_name": "Python 3",
   "language": "python",
   "name": "python3"
  },
  "language_info": {
   "codemirror_mode": {
    "name": "ipython",
    "version": 3
   },
   "file_extension": ".py",
   "mimetype": "text/x-python",
   "name": "python",
   "nbconvert_exporter": "python",
   "pygments_lexer": "ipython3",
   "version": "3.10.11"
  },
  "orig_nbformat": 4
 },
 "nbformat": 4,
 "nbformat_minor": 2
}
